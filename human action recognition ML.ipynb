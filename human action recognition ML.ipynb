{
 "cells": [
  {
   "cell_type": "code",
   "execution_count": 1,
   "id": "f640acfa-f41c-4b27-9dc5-c95ef9a25a1d",
   "metadata": {},
   "outputs": [],
   "source": [
    "import pandas as pd\n",
    "import numpy as np\n",
    "import seaborn as sns\n",
    "import matplotlib.pyplot as plt\n",
    "%matplotlib inline\n",
    "import warnings\n",
    "warnings.filterwarnings(\"ignore\")"
   ]
  },
  {
   "cell_type": "code",
   "execution_count": 2,
   "id": "ab782dd5-852d-4bd9-bd27-1eecf62bee0f",
   "metadata": {},
   "outputs": [],
   "source": [
    "train = pd.read_csv(\"Desktop/PROJECTS/Human Activity Recognition using Smartphone Data with Machine Learning/train-1.csv\")\n",
    "test = pd.read_csv(\"Desktop/PROJECTS/Human Activity Recognition using Smartphone Data with Machine Learning/test (1).csv\")"
   ]
  },
  {
   "cell_type": "code",
   "execution_count": 3,
   "id": "4f6278e1-8387-427e-a042-d2cd6c09e701",
   "metadata": {},
   "outputs": [],
   "source": [
    "train['Data'] = 'Train'\n",
    "test['Data'] = 'Test'\n",
    "both = pd.concat([train, test], axis=0).reset_index(drop=True)\n",
    "both['subject'] = '#' + both['subject'].astype(str)"
   ]
  },
  {
   "cell_type": "code",
   "execution_count": 4,
   "id": "94575c17-852b-437e-bb6f-ef368bbb6049",
   "metadata": {},
   "outputs": [
    {
     "data": {
      "text/plain": [
       "((7352, 564), (2947, 564))"
      ]
     },
     "execution_count": 4,
     "metadata": {},
     "output_type": "execute_result"
    }
   ],
   "source": [
    "train.shape, test.shape"
   ]
  },
  {
   "cell_type": "code",
   "execution_count": 5,
   "id": "2c09155b-1a81-4d4a-963d-14cc30cf2f0c",
   "metadata": {},
   "outputs": [
    {
     "data": {
      "text/html": [
       "<div>\n",
       "<style scoped>\n",
       "    .dataframe tbody tr th:only-of-type {\n",
       "        vertical-align: middle;\n",
       "    }\n",
       "\n",
       "    .dataframe tbody tr th {\n",
       "        vertical-align: top;\n",
       "    }\n",
       "\n",
       "    .dataframe thead th {\n",
       "        text-align: right;\n",
       "    }\n",
       "</style>\n",
       "<table border=\"1\" class=\"dataframe\">\n",
       "  <thead>\n",
       "    <tr style=\"text-align: right;\">\n",
       "      <th></th>\n",
       "      <th>tBodyAcc-mean()-X</th>\n",
       "      <th>tBodyAcc-mean()-Y</th>\n",
       "      <th>tBodyAcc-mean()-Z</th>\n",
       "      <th>tBodyAcc-std()-X</th>\n",
       "      <th>tBodyAcc-std()-Y</th>\n",
       "      <th>tBodyAcc-std()-Z</th>\n",
       "      <th>tBodyAcc-mad()-X</th>\n",
       "      <th>tBodyAcc-mad()-Y</th>\n",
       "      <th>tBodyAcc-mad()-Z</th>\n",
       "      <th>tBodyAcc-max()-X</th>\n",
       "      <th>...</th>\n",
       "      <th>angle(tBodyAccMean,gravity)</th>\n",
       "      <th>angle(tBodyAccJerkMean),gravityMean)</th>\n",
       "      <th>angle(tBodyGyroMean,gravityMean)</th>\n",
       "      <th>angle(tBodyGyroJerkMean,gravityMean)</th>\n",
       "      <th>angle(X,gravityMean)</th>\n",
       "      <th>angle(Y,gravityMean)</th>\n",
       "      <th>angle(Z,gravityMean)</th>\n",
       "      <th>subject</th>\n",
       "      <th>Activity</th>\n",
       "      <th>Data</th>\n",
       "    </tr>\n",
       "  </thead>\n",
       "  <tbody>\n",
       "    <tr>\n",
       "      <th>0</th>\n",
       "      <td>0.288585</td>\n",
       "      <td>-0.020294</td>\n",
       "      <td>-0.132905</td>\n",
       "      <td>-0.995279</td>\n",
       "      <td>-0.983111</td>\n",
       "      <td>-0.913526</td>\n",
       "      <td>-0.995112</td>\n",
       "      <td>-0.983185</td>\n",
       "      <td>-0.923527</td>\n",
       "      <td>-0.934724</td>\n",
       "      <td>...</td>\n",
       "      <td>-0.112754</td>\n",
       "      <td>0.030400</td>\n",
       "      <td>-0.464761</td>\n",
       "      <td>-0.018446</td>\n",
       "      <td>-0.841247</td>\n",
       "      <td>0.179941</td>\n",
       "      <td>-0.058627</td>\n",
       "      <td>#1</td>\n",
       "      <td>STANDING</td>\n",
       "      <td>Train</td>\n",
       "    </tr>\n",
       "    <tr>\n",
       "      <th>1</th>\n",
       "      <td>0.278419</td>\n",
       "      <td>-0.016411</td>\n",
       "      <td>-0.123520</td>\n",
       "      <td>-0.998245</td>\n",
       "      <td>-0.975300</td>\n",
       "      <td>-0.960322</td>\n",
       "      <td>-0.998807</td>\n",
       "      <td>-0.974914</td>\n",
       "      <td>-0.957686</td>\n",
       "      <td>-0.943068</td>\n",
       "      <td>...</td>\n",
       "      <td>0.053477</td>\n",
       "      <td>-0.007435</td>\n",
       "      <td>-0.732626</td>\n",
       "      <td>0.703511</td>\n",
       "      <td>-0.844788</td>\n",
       "      <td>0.180289</td>\n",
       "      <td>-0.054317</td>\n",
       "      <td>#1</td>\n",
       "      <td>STANDING</td>\n",
       "      <td>Train</td>\n",
       "    </tr>\n",
       "    <tr>\n",
       "      <th>2</th>\n",
       "      <td>0.279653</td>\n",
       "      <td>-0.019467</td>\n",
       "      <td>-0.113462</td>\n",
       "      <td>-0.995380</td>\n",
       "      <td>-0.967187</td>\n",
       "      <td>-0.978944</td>\n",
       "      <td>-0.996520</td>\n",
       "      <td>-0.963668</td>\n",
       "      <td>-0.977469</td>\n",
       "      <td>-0.938692</td>\n",
       "      <td>...</td>\n",
       "      <td>-0.118559</td>\n",
       "      <td>0.177899</td>\n",
       "      <td>0.100699</td>\n",
       "      <td>0.808529</td>\n",
       "      <td>-0.848933</td>\n",
       "      <td>0.180637</td>\n",
       "      <td>-0.049118</td>\n",
       "      <td>#1</td>\n",
       "      <td>STANDING</td>\n",
       "      <td>Train</td>\n",
       "    </tr>\n",
       "    <tr>\n",
       "      <th>3</th>\n",
       "      <td>0.279174</td>\n",
       "      <td>-0.026201</td>\n",
       "      <td>-0.123283</td>\n",
       "      <td>-0.996091</td>\n",
       "      <td>-0.983403</td>\n",
       "      <td>-0.990675</td>\n",
       "      <td>-0.997099</td>\n",
       "      <td>-0.982750</td>\n",
       "      <td>-0.989302</td>\n",
       "      <td>-0.938692</td>\n",
       "      <td>...</td>\n",
       "      <td>-0.036788</td>\n",
       "      <td>-0.012892</td>\n",
       "      <td>0.640011</td>\n",
       "      <td>-0.485366</td>\n",
       "      <td>-0.848649</td>\n",
       "      <td>0.181935</td>\n",
       "      <td>-0.047663</td>\n",
       "      <td>#1</td>\n",
       "      <td>STANDING</td>\n",
       "      <td>Train</td>\n",
       "    </tr>\n",
       "    <tr>\n",
       "      <th>4</th>\n",
       "      <td>0.276629</td>\n",
       "      <td>-0.016570</td>\n",
       "      <td>-0.115362</td>\n",
       "      <td>-0.998139</td>\n",
       "      <td>-0.980817</td>\n",
       "      <td>-0.990482</td>\n",
       "      <td>-0.998321</td>\n",
       "      <td>-0.979672</td>\n",
       "      <td>-0.990441</td>\n",
       "      <td>-0.942469</td>\n",
       "      <td>...</td>\n",
       "      <td>0.123320</td>\n",
       "      <td>0.122542</td>\n",
       "      <td>0.693578</td>\n",
       "      <td>-0.615971</td>\n",
       "      <td>-0.847865</td>\n",
       "      <td>0.185151</td>\n",
       "      <td>-0.043892</td>\n",
       "      <td>#1</td>\n",
       "      <td>STANDING</td>\n",
       "      <td>Train</td>\n",
       "    </tr>\n",
       "  </tbody>\n",
       "</table>\n",
       "<p>5 rows × 564 columns</p>\n",
       "</div>"
      ],
      "text/plain": [
       "   tBodyAcc-mean()-X  tBodyAcc-mean()-Y  tBodyAcc-mean()-Z  tBodyAcc-std()-X  \\\n",
       "0           0.288585          -0.020294          -0.132905         -0.995279   \n",
       "1           0.278419          -0.016411          -0.123520         -0.998245   \n",
       "2           0.279653          -0.019467          -0.113462         -0.995380   \n",
       "3           0.279174          -0.026201          -0.123283         -0.996091   \n",
       "4           0.276629          -0.016570          -0.115362         -0.998139   \n",
       "\n",
       "   tBodyAcc-std()-Y  tBodyAcc-std()-Z  tBodyAcc-mad()-X  tBodyAcc-mad()-Y  \\\n",
       "0         -0.983111         -0.913526         -0.995112         -0.983185   \n",
       "1         -0.975300         -0.960322         -0.998807         -0.974914   \n",
       "2         -0.967187         -0.978944         -0.996520         -0.963668   \n",
       "3         -0.983403         -0.990675         -0.997099         -0.982750   \n",
       "4         -0.980817         -0.990482         -0.998321         -0.979672   \n",
       "\n",
       "   tBodyAcc-mad()-Z  tBodyAcc-max()-X  ...  angle(tBodyAccMean,gravity)  \\\n",
       "0         -0.923527         -0.934724  ...                    -0.112754   \n",
       "1         -0.957686         -0.943068  ...                     0.053477   \n",
       "2         -0.977469         -0.938692  ...                    -0.118559   \n",
       "3         -0.989302         -0.938692  ...                    -0.036788   \n",
       "4         -0.990441         -0.942469  ...                     0.123320   \n",
       "\n",
       "   angle(tBodyAccJerkMean),gravityMean)  angle(tBodyGyroMean,gravityMean)  \\\n",
       "0                              0.030400                         -0.464761   \n",
       "1                             -0.007435                         -0.732626   \n",
       "2                              0.177899                          0.100699   \n",
       "3                             -0.012892                          0.640011   \n",
       "4                              0.122542                          0.693578   \n",
       "\n",
       "   angle(tBodyGyroJerkMean,gravityMean)  angle(X,gravityMean)  \\\n",
       "0                             -0.018446             -0.841247   \n",
       "1                              0.703511             -0.844788   \n",
       "2                              0.808529             -0.848933   \n",
       "3                             -0.485366             -0.848649   \n",
       "4                             -0.615971             -0.847865   \n",
       "\n",
       "   angle(Y,gravityMean)  angle(Z,gravityMean)  subject  Activity   Data  \n",
       "0              0.179941             -0.058627       #1  STANDING  Train  \n",
       "1              0.180289             -0.054317       #1  STANDING  Train  \n",
       "2              0.180637             -0.049118       #1  STANDING  Train  \n",
       "3              0.181935             -0.047663       #1  STANDING  Train  \n",
       "4              0.185151             -0.043892       #1  STANDING  Train  \n",
       "\n",
       "[5 rows x 564 columns]"
      ]
     },
     "execution_count": 5,
     "metadata": {},
     "output_type": "execute_result"
    }
   ],
   "source": [
    "both.head()"
   ]
  },
  {
   "cell_type": "code",
   "execution_count": 6,
   "id": "ad4d50d3-d70d-414b-84bb-3a5789508294",
   "metadata": {},
   "outputs": [
    {
     "data": {
      "text/plain": [
       "float64    561\n",
       "object       3\n",
       "Name: count, dtype: int64"
      ]
     },
     "execution_count": 6,
     "metadata": {},
     "output_type": "execute_result"
    }
   ],
   "source": [
    "both.dtypes.value_counts()"
   ]
  },
  {
   "cell_type": "code",
   "execution_count": 7,
   "id": "d4da5355-e689-4128-ab23-1e18b99770e1",
   "metadata": {},
   "outputs": [
    {
     "data": {
      "text/html": [
       "<div>\n",
       "<style scoped>\n",
       "    .dataframe tbody tr th:only-of-type {\n",
       "        vertical-align: middle;\n",
       "    }\n",
       "\n",
       "    .dataframe tbody tr th {\n",
       "        vertical-align: top;\n",
       "    }\n",
       "\n",
       "    .dataframe thead th {\n",
       "        text-align: right;\n",
       "    }\n",
       "</style>\n",
       "<table border=\"1\" class=\"dataframe\">\n",
       "  <thead>\n",
       "    <tr style=\"text-align: right;\">\n",
       "      <th></th>\n",
       "      <th>Missing value</th>\n",
       "      <th>N unique value</th>\n",
       "      <th>dtype</th>\n",
       "    </tr>\n",
       "  </thead>\n",
       "  <tbody>\n",
       "    <tr>\n",
       "      <th>tBodyAcc-mean()-X</th>\n",
       "      <td>0</td>\n",
       "      <td>10292</td>\n",
       "      <td>float64</td>\n",
       "    </tr>\n",
       "    <tr>\n",
       "      <th>tBodyAcc-mean()-Y</th>\n",
       "      <td>0</td>\n",
       "      <td>10299</td>\n",
       "      <td>float64</td>\n",
       "    </tr>\n",
       "    <tr>\n",
       "      <th>tBodyAcc-mean()-Z</th>\n",
       "      <td>0</td>\n",
       "      <td>10293</td>\n",
       "      <td>float64</td>\n",
       "    </tr>\n",
       "    <tr>\n",
       "      <th>tBodyAcc-std()-X</th>\n",
       "      <td>0</td>\n",
       "      <td>10295</td>\n",
       "      <td>float64</td>\n",
       "    </tr>\n",
       "    <tr>\n",
       "      <th>tBodyAcc-std()-Y</th>\n",
       "      <td>0</td>\n",
       "      <td>10297</td>\n",
       "      <td>float64</td>\n",
       "    </tr>\n",
       "    <tr>\n",
       "      <th>...</th>\n",
       "      <td>...</td>\n",
       "      <td>...</td>\n",
       "      <td>...</td>\n",
       "    </tr>\n",
       "    <tr>\n",
       "      <th>angle(Y,gravityMean)</th>\n",
       "      <td>0</td>\n",
       "      <td>10299</td>\n",
       "      <td>float64</td>\n",
       "    </tr>\n",
       "    <tr>\n",
       "      <th>angle(Z,gravityMean)</th>\n",
       "      <td>0</td>\n",
       "      <td>10299</td>\n",
       "      <td>float64</td>\n",
       "    </tr>\n",
       "    <tr>\n",
       "      <th>subject</th>\n",
       "      <td>0</td>\n",
       "      <td>30</td>\n",
       "      <td>object</td>\n",
       "    </tr>\n",
       "    <tr>\n",
       "      <th>Activity</th>\n",
       "      <td>0</td>\n",
       "      <td>6</td>\n",
       "      <td>object</td>\n",
       "    </tr>\n",
       "    <tr>\n",
       "      <th>Data</th>\n",
       "      <td>0</td>\n",
       "      <td>2</td>\n",
       "      <td>object</td>\n",
       "    </tr>\n",
       "  </tbody>\n",
       "</table>\n",
       "<p>564 rows × 3 columns</p>\n",
       "</div>"
      ],
      "text/plain": [
       "                      Missing value  N unique value    dtype\n",
       "tBodyAcc-mean()-X                 0           10292  float64\n",
       "tBodyAcc-mean()-Y                 0           10299  float64\n",
       "tBodyAcc-mean()-Z                 0           10293  float64\n",
       "tBodyAcc-std()-X                  0           10295  float64\n",
       "tBodyAcc-std()-Y                  0           10297  float64\n",
       "...                             ...             ...      ...\n",
       "angle(Y,gravityMean)              0           10299  float64\n",
       "angle(Z,gravityMean)              0           10299  float64\n",
       "subject                           0              30   object\n",
       "Activity                          0               6   object\n",
       "Data                              0               2   object\n",
       "\n",
       "[564 rows x 3 columns]"
      ]
     },
     "execution_count": 7,
     "metadata": {},
     "output_type": "execute_result"
    }
   ],
   "source": [
    "def basic_details(df):\n",
    "    b = pd.DataFrame()\n",
    "    b['Missing value'] = df.isnull().sum()\n",
    "    b['N unique value'] = df.nunique()\n",
    "    b['dtype'] = df.dtypes\n",
    "    return b\n",
    "basic_details(both)"
   ]
  },
  {
   "cell_type": "code",
   "execution_count": 8,
   "id": "5494b564-a4fc-4f75-b48a-19aa1ea7344e",
   "metadata": {},
   "outputs": [
    {
     "data": {
      "image/png": "[encoded data removed]",
      "text/plain": [
       "<Figure size 1500x500 with 1 Axes>"
      ]
     },
     "metadata": {},
     "output_type": "display_data"
    }
   ],
   "source": [
    "activity = both['Activity']\n",
    "label_counts = activity.value_counts()\n",
    "\n",
    "plt.figure(figsize= (15, 5))\n",
    "plt.bar(label_counts.index, label_counts)\n",
    "plt.show()"
   ]
  },
  {
   "cell_type": "code",
   "execution_count": 9,
   "id": "d0999e26-3b70-4c02-8b9d-c3c34b5c2b0b",
   "metadata": {},
   "outputs": [],
   "source": [
    "Data = both['Data']\n",
    "Subject = both['subject']\n",
    "train = both.copy()\n",
    "train = train.drop(['Data','subject','Activity'], axis =1)"
   ]
  },
  {
   "cell_type": "code",
   "execution_count": 10,
   "id": "fa627c00-45a5-4bcc-8a1a-67adec601177",
   "metadata": {},
   "outputs": [],
   "source": [
    "# Standard Scaler\n",
    "from sklearn.preprocessing import StandardScaler\n",
    "slc = StandardScaler()\n",
    "train = slc.fit_transform(train)"
   ]
  },
  {
   "cell_type": "code",
   "execution_count": 11,
   "id": "87174e21-9f31-4040-ac5d-1a3221d035e4",
   "metadata": {},
   "outputs": [],
   "source": [
    "# dimensionality reduction\n",
    "from sklearn.decomposition import PCA\n",
    "pca = PCA(n_components=0.9, random_state=0)\n",
    "train = pca.fit_transform(train)"
   ]
  },
  {
   "cell_type": "code",
   "execution_count": 12,
   "id": "4683ab0c-e62b-4595-88d8-7e7ea773b42d",
   "metadata": {},
   "outputs": [],
   "source": [
    "#Splitting the  data into training and testing\n",
    "from sklearn.model_selection import train_test_split\n",
    "X_train, X_test, y_train, y_test = train_test_split(train, activity, test_size = 0.2, random_state = 0)"
   ]
  },
  {
   "cell_type": "code",
   "execution_count": 13,
   "id": "9ce10b91-7141-4a34-baa0-ca6893029212",
   "metadata": {},
   "outputs": [],
   "source": [
    "#Test options and evaluation metric\n",
    "num_folds = 10\n",
    "seed = 0\n",
    "scoring = 'accuracy'\n",
    "results = {}\n",
    "accuracy = {}"
   ]
  },
  {
   "cell_type": "code",
   "execution_count": 14,
   "id": "514a9e7c-a9ed-47e9-a100-4a263bb9b16d",
   "metadata": {},
   "outputs": [
    {
     "name": "stdout",
     "output_type": "stream",
     "text": [
      "                    precision    recall  f1-score   support\n",
      "\n",
      "            LAYING       1.00      1.00      1.00       377\n",
      "           SITTING       0.92      0.87      0.90       364\n",
      "          STANDING       0.89      0.93      0.91       390\n",
      "           WALKING       0.96      0.99      0.97       335\n",
      "WALKING_DOWNSTAIRS       0.99      0.95      0.97       278\n",
      "  WALKING_UPSTAIRS       0.98      0.98      0.98       316\n",
      "\n",
      "          accuracy                           0.95      2060\n",
      "         macro avg       0.96      0.95      0.95      2060\n",
      "      weighted avg       0.95      0.95      0.95      2060\n",
      "\n"
     ]
    },
    {
     "data": {
      "image/png": "[encoded data removed]",
      "text/plain": [
       "<Figure size 640x480 with 2 Axes>"
      ]
     },
     "metadata": {},
     "output_type": "display_data"
    }
   ],
   "source": [
    "#Activity Recognition Algorithm\n",
    "# Finalizing the model and comparing the test, predict results\n",
    "from sklearn.neighbors import KNeighborsClassifier\n",
    "from sklearn.metrics import confusion_matrix, accuracy_score, classification_report\n",
    "from sklearn.model_selection import KFold, cross_val_score\n",
    "model = KNeighborsClassifier(algorithm= 'auto', n_neighbors= 8, p= 1, weights= 'distance')\n",
    "\n",
    "_ = cross_val_score(model, X_train, y_train, cv=10, scoring=scoring)\n",
    "results[\"GScv\"] = (_.mean(), _.std())\n",
    "\n",
    "model.fit(X_train, y_train) \n",
    "y_predict = model.predict(X_test)\n",
    "\n",
    "accuracy[\"GScv\"] = accuracy_score(y_test, y_predict)\n",
    "\n",
    "print(classification_report(y_test, y_predict))\n",
    "\n",
    "cm= confusion_matrix(y_test, y_predict)\n",
    "sns.heatmap(cm, annot=True)\n",
    "plt.show()\n"
   ]
  },
  {
   "cell_type": "code",
   "execution_count": null,
   "id": "0a06c621-480d-4ea1-aac4-923bac5648c8",
   "metadata": {},
   "outputs": [],
   "source": []
  },
  {
   "cell_type": "code",
   "execution_count": null,
   "id": "5f88788f-1aad-4790-a99b-94e404137367",
   "metadata": {},
   "outputs": [],
   "source": []
  }
 ],
 "metadata": {
  "kernelspec": {
   "display_name": "Python [conda env:base] *",
   "language": "python",
   "name": "conda-base-py"
  },
  "language_info": {
   "codemirror_mode": {
    "name": "ipython",
    "version": 3
   },
   "file_extension": ".py",
   "mimetype": "text/x-python",
   "name": "python",
   "nbconvert_exporter": "python",
   "pygments_lexer": "ipython3",
   "version": "3.12.7"
  }
 },
 "nbformat": 4,
 "nbformat_minor": 5
}
